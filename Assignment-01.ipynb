{
 "metadata": {
  "name": "",
  "signature": "sha256:9daa3c19e0948b597d28831945cd434ca55668452c1fb5ca7e5bdb331faef0ec"
 },
 "nbformat": 3,
 "nbformat_minor": 0,
 "worksheets": [
  {
   "cells": [
    {
     "cell_type": "code",
     "collapsed": false,
     "input": [
      "from IPython.core.display import HTML\n",
      "def css_styling():\n",
      "    styles = open(\"../styles/custom.css\", \"r\").read()\n",
      "    return HTML(styles)\n",
      "css_styling()"
     ],
     "language": "python",
     "metadata": {
      "cellrole": "header"
     },
     "outputs": [
      {
       "html": [
        "<link href='http://fonts.googleapis.com/css?family=Fenix' rel='stylesheet' type='text/css'>\n",
        "<link href='http://fonts.googleapis.com/css?family=Alegreya+Sans:100,300,400,500,700,800,900,100italic,300italic,400italic,500italic,700italic,800italic,900italic' rel='stylesheet' type='text/css'>\n",
        "<link href='http://fonts.googleapis.com/css?family=Source+Code+Pro:300,400' rel='stylesheet' type='text/css'>\n",
        "<style>\n",
        "    @font-face {\n",
        "        font-family: \"Computer Modern\";\n",
        "        src: url('http://mirrors.ctan.org/fonts/cm-unicode/fonts/otf/cmunss.otf');\n",
        "    }\n",
        "    div.cell{\n",
        "        width:800px;\n",
        "        margin-left:5% !important;\n",
        "        margin-right:auto;\n",
        "    }\n",
        "    h1 {\n",
        "        font-family: 'Alegreya Sans', sans-serif;\n",
        "    }\n",
        "    h2 {\n",
        "        font-family: 'Alegreya Sans', sans-serif;\n",
        "        color:#CD2305;\n",
        "    }\n",
        "    h3{\n",
        "\t\tfont-family: 'Fenix', serif;\n",
        "        margin-top:12px;\n",
        "        margin-bottom: 3px;\n",
        "        color:#CD2305;\n",
        "       }\n",
        "\th4{\n",
        "\t\tfont-family: 'Fenix', serif;\n",
        "        color:#CD2305;\n",
        "       }\n",
        "    h5 {\n",
        "        font-family: 'Alegreya Sans', sans-serif;\n",
        "        color:#CD2305;\n",
        "    }\t   \n",
        "    div.text_cell_render{\n",
        "    /*    font-family: 'Alegreya Sans',Computer Modern, \"Helvetica Neue\", Arial, Helvetica, Geneva, sans-serif; */\n",
        "        font-family: 'Fenix', serif;\n",
        "        line-height: 105%;\n",
        "        font-size: 140%;\n",
        "        width:700px;\n",
        "        margin-left:-10% !important;\n",
        "\n",
        "    }\n",
        "    .CodeMirror{\n",
        "            font-family: 'Bitstream Vera Sans Mono','Lucida Console',monospace;\n",
        "\t\t\tfont-size: 90%;\n",
        "    }\n",
        "/*    .prompt{\n",
        "        display: None;\n",
        "    }*/\n",
        "    .text_cell_render h1 {\n",
        "        font-weight: 200;\n",
        "        font-size: 24pt;\n",
        "\t\tline-height: 100%;\n",
        "        color:#CD2305;\n",
        "        margin-bottom: 0.5em;\n",
        "        margin-top: 0.5em;\n",
        "        display: block;\n",
        "    }\t\n",
        "    .text_cell_render h5 {\n",
        "        font-weight: 300;\n",
        "        font-size: 16pt;\n",
        "        color: #CD2305;\n",
        "        font-style: italic;\n",
        "        margin-bottom: .5em;\n",
        "        margin-top: 0.5em;\n",
        "        display: block;\n",
        "    }\n",
        "    \n",
        "    .warning{\n",
        "        color: rgb( 240, 20, 20 )\n",
        "        }  \n",
        "</style>\n",
        "<script>\n",
        "    MathJax.Hub.Config({\n",
        "                        TeX: {\n",
        "                           extensions: [\"AMSmath.js\"]\n",
        "                           },\n",
        "                tex2jax: {\n",
        "                    inlineMath: [ ['$','$'], [\"\\\\(\",\"\\\\)\"] ],\n",
        "                    displayMath: [ ['$$','$$'], [\"\\\\[\",\"\\\\]\"] ]\n",
        "                },\n",
        "                displayAlign: 'center', // Change this to 'center' to center equations.\n",
        "                \"HTML-CSS\": {\n",
        "                    styles: {'.MathJax_Display': {\"margin\": 4}}\n",
        "                }\n",
        "        });\n",
        "</script>"
       ],
       "metadata": {},
       "output_type": "pyout",
       "prompt_number": 3,
       "text": [
        "<IPython.core.display.HTML at 0x107dc0ad0>"
       ]
      }
     ],
     "prompt_number": 3
    },
    {
     "cell_type": "markdown",
     "metadata": {},
     "source": [
      "<figure>\n",
      "<IMG SRC=\"../lectures/images/PhysicsLogo.jpg\" WIDTH=100 ALIGN=\"right\">\n",
      "</figure>\n",
      "# [Physics 411](http://jklymak.github.io/Phy411/) Time Series Analysis\n",
      "*Jody Klymak*\n"
     ]
    },
    {
     "cell_type": "heading",
     "level": 1,
     "metadata": {},
     "source": [
      "Assignment 1"
     ]
    },
    {
     "cell_type": "heading",
     "level": 2,
     "metadata": {},
     "source": [
      "Q1: Simulate aliasing of sinusoidal signals"
     ]
    },
    {
     "cell_type": "markdown",
     "metadata": {},
     "source": [
      "For this problem you will simulate the phenomena of aliasing.  This will give you pracitice in making synthetic time series, subsetting data, and plotting your results.\n",
      "\n",
      "**1** To start, make a time vector that goes from 0 to 100 s, with 10000 entries in it.  Then make a synthetic time series that has two close in frequency sine waves:\n",
      "\n",
      "$$ x = A_1 \\cos (\\omega t) + A_2 \\cos ((\\omega+\\delta \\omega ) t) $$\n",
      "\n",
      "where $\\omega$ is the \"carrier\" frequency, and $\\delta \\omega << \\omega$ is the difference in frequencies between the two waves.  For simplicty, you could make $A_1=A_2=1.0\\ [V]$.  Feel free to choose an interesting $\\omega$.\n",
      "\n",
      "<hr>"
     ]
    },
    {
     "cell_type": "code",
     "collapsed": false,
     "input": [
      "import numpy as np\n",
      "import math as math\n",
      "\n",
      "t = np.linspace(0.,100.,10000)\n",
      "\n",
      "np.fromfunction()"
     ],
     "language": "python",
     "metadata": {},
     "outputs": [
      {
       "output_type": "stream",
       "stream": "stdout",
       "text": [
        "[  0.00000000e+00   1.00010001e-02   2.00020002e-02 ...,   9.99799980e+01\n",
        "   9.99899990e+01   1.00000000e+02]\n"
       ]
      }
     ],
     "prompt_number": 2
    },
    {
     "cell_type": "markdown",
     "metadata": {},
     "source": [
      "**2** Now plot the two component waves and the full value of $x$ as a time series.  Preferably on the same axis.  Make sure to label your axes and include a legend<hr>"
     ]
    },
    {
     "cell_type": "code",
     "collapsed": false,
     "input": [
      "PLOT SIGNALS HERE"
     ],
     "language": "python",
     "metadata": {},
     "outputs": [],
     "prompt_number": 0
    },
    {
     "cell_type": "markdown",
     "metadata": {},
     "source": [
      "**3** Try a few different values of $\\delta\\omega$, and compare.<hr>"
     ]
    },
    {
     "cell_type": "code",
     "collapsed": false,
     "input": [
      "PLOT COMPARISON HERE"
     ],
     "language": "python",
     "metadata": {},
     "outputs": [],
     "prompt_number": 0
    },
    {
     "cell_type": "markdown",
     "metadata": {},
     "source": [
      "**4** Now, just so this works, let me specify some numbers for you.  Make $\\omega=\\frac{2\\pi}{3}$, and $\\delta\\omega=\\omega/10.$.  Plot the original time series, and a subsampled time series that just consists of every 200th point.  In a \"Markdown\" box below the code (or as a comment) describe the difference in these two signals as quantifiably as you can.  <hr>"
     ]
    },
    {
     "cell_type": "code",
     "collapsed": false,
     "input": [
      "PLOT SUBSAMPLED TIME SERIES HERE"
     ],
     "language": "python",
     "metadata": {},
     "outputs": [],
     "prompt_number": 0
    },
    {
     "cell_type": "markdown",
     "metadata": {},
     "source": [
      "DESCRIBE NEW TIME SERIES HERE"
     ]
    },
    {
     "cell_type": "heading",
     "level": 2,
     "metadata": {},
     "source": [
      "Q2: Demonstrate the central limit theorem for a very unfair coin flip."
     ]
    },
    {
     "cell_type": "markdown",
     "metadata": {},
     "source": [
      "Consider a coin that is twice as likely to come up heads as tails. To put a number on it, call tails $x=-1/2$ and heads $x=+1/2$.  \n",
      "\n",
      "**1** What are the mean, $\\mu_x$, and variance $\\sigma_x^2$ of this process?\n",
      "\n",
      "<hr>"
     ]
    },
    {
     "cell_type": "markdown",
     "metadata": {},
     "source": [
      "ANSWER HERE"
     ]
    },
    {
     "cell_type": "code",
     "collapsed": false,
     "input": [
      "DO ANY CALC HERE"
     ],
     "language": "python",
     "metadata": {},
     "outputs": [],
     "prompt_number": 3
    },
    {
     "cell_type": "markdown",
     "metadata": {},
     "source": [
      "**2** Plot or represent the *probability distribution*  (or cumulative distrubution) of this process.\n",
      "<hr>"
     ]
    },
    {
     "cell_type": "code",
     "collapsed": false,
     "input": [
      "CODE UP PLOT HERE"
     ],
     "language": "python",
     "metadata": {},
     "outputs": [],
     "prompt_number": 0
    },
    {
     "cell_type": "markdown",
     "metadata": {},
     "source": [
      "**3** Write a function using the `np.random.norm` function to simulate the coin flip.  It shoudl return $+1/2$ twice as often as $-1/2$.  Demonstrate that your function works.\n",
      "<hr>"
     ]
    },
    {
     "cell_type": "code",
     "collapsed": false,
     "input": [
      "CODE UP PLOT HERE"
     ],
     "language": "python",
     "metadata": {},
     "outputs": [],
     "prompt_number": 0
    },
    {
     "cell_type": "markdown",
     "metadata": {},
     "source": [
      "**4** Perform $N_{flip}$ and take the sample mean $\\overline{x}$ of the values.  Do this 2000 times, and show that as $N_{flip}\\to\\infty$ the distribution of $\\overline{x}$ approaches a Normal distribution by plotting the histograms of the means for each.  For $N_{roll}$ choose 2, 16, 64, 256. \n",
      "\n",
      "Comment on how the convergence of $\\overline{x}$ for the unfair coin compares to the convergence of the sample mean of the dice roll.  \n",
      "<hr>"
     ]
    },
    {
     "cell_type": "code",
     "collapsed": false,
     "input": [
      "CODE UP PLOT HERE"
     ],
     "language": "python",
     "metadata": {},
     "outputs": [],
     "prompt_number": 0
    },
    {
     "cell_type": "markdown",
     "metadata": {},
     "source": [
      "COMMENT HERE"
     ]
    },
    {
     "cell_type": "markdown",
     "metadata": {},
     "source": [
      "<hr>\n",
      "**5** Replot the histograms, removing the mean and normalizing by the standard deviation.  Also show the CDF for normal distribution with mean zero and standard deviation of 1.\n",
      "<hr>"
     ]
    },
    {
     "cell_type": "code",
     "collapsed": false,
     "input": [
      "CODE UP PLOT HERE\n"
     ],
     "language": "python",
     "metadata": {},
     "outputs": [],
     "prompt_number": 1
    },
    {
     "cell_type": "heading",
     "level": 2,
     "metadata": {},
     "source": [
      "Q3: Look at the Deep Cove weather data:\n",
      "\n"
     ]
    },
    {
     "cell_type": "markdown",
     "metadata": {},
     "source": [
      "There are two data sets, one with a sample every minute at \n",
      "\n",
      "`http://web.uvic.ca/~jklymak/Phy411/Data/MinuteData/DeepCoveNew.txt`.\n",
      "\n",
      "Download it locally, or use `genfromtxt` with the url as an argument.\n",
      "\n",
      "The second is hourly data of the same station and a lot more.\n",
      "\n",
      "`http://web.uvic.ca/~jklymak/Phy411/Data/MinuteData/AllHourly.txt`\n"
     ]
    },
    {
     "cell_type": "code",
     "collapsed": false,
     "input": [
      "minutedata=np.genfromtxt('http://web.uvic.ca/~jklymak/Phy411/Data/MinuteData/DeepCoveNew.txt')[:,1]\n",
      "hourdata=np.genfromtxt('http://web.uvic.ca/~jklymak/Phy411/Data/AllHourly.txt')[6,2:]\n"
     ],
     "language": "python",
     "metadata": {},
     "outputs": [],
     "prompt_number": 172
    },
    {
     "cell_type": "markdown",
     "metadata": {},
     "source": [
      "**1** Compare the normalized histograms of the two time series.  Also calculate the means and the standard deviations.\n",
      "<hr>"
     ]
    },
    {
     "cell_type": "code",
     "collapsed": false,
     "input": [
      "PLOT AND STATS HERE"
     ],
     "language": "python",
     "metadata": {},
     "outputs": [],
     "prompt_number": 1
    },
    {
     "cell_type": "markdown",
     "metadata": {},
     "source": [
      "**2** Comment on the shape of these histograms.  Are they Normal?  Speculate as to why they have this shape.\n",
      "<hr>"
     ]
    },
    {
     "cell_type": "markdown",
     "metadata": {},
     "source": [
      "ANSWER HERE"
     ]
    },
    {
     "cell_type": "markdown",
     "metadata": {},
     "source": [
      "<hr>\n",
      "**3** Redo the histogram and the statistics with just the temperature at 3 PM (both time series start at midnight local time).\n",
      "<hr>"
     ]
    },
    {
     "cell_type": "code",
     "collapsed": false,
     "input": [
      "PLOT AND STATS HERE"
     ],
     "language": "python",
     "metadata": {},
     "outputs": [],
     "prompt_number": 2
    },
    {
     "cell_type": "markdown",
     "metadata": {},
     "source": [
      "**4** Redo the histogram and the statistics with just the temperature at 5 AM (both time series start at midnight local time)."
     ]
    },
    {
     "cell_type": "code",
     "collapsed": false,
     "input": [
      "PLOT AND STATS HERE"
     ],
     "language": "python",
     "metadata": {},
     "outputs": [],
     "prompt_number": 2
    }
   ],
   "metadata": {}
  }
 ]
}